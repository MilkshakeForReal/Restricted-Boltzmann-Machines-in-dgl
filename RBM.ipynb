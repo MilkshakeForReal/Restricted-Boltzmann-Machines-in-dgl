{
  "nbformat": 4,
  "nbformat_minor": 0,
  "metadata": {
    "colab": {
      "name": "RBM.ipynb",
      "provenance": [],
      "collapsed_sections": []
    },
    "kernelspec": {
      "name": "python3",
      "display_name": "Python 3"
    },
    "accelerator": "GPU"
  },
  "cells": [
    {
      "cell_type": "code",
      "metadata": {
        "id": "iZy9-EoUaQpp",
        "colab_type": "code",
        "colab": {
          "base_uri": "https://localhost:8080/",
          "height": 198
        },
        "outputId": "cb9d4048-8f5c-4201-fb2c-af6a86385a3f"
      },
      "source": [
        "pip install --pre dgl-cu101"
      ],
      "execution_count": 1,
      "outputs": [
        {
          "output_type": "stream",
          "text": [
            "Collecting dgl-cu101\n",
            "\u001b[?25l  Downloading https://files.pythonhosted.org/packages/00/fc/893d6c8a7816bda39e55ac374e68a44d00a39d680b9a24fe29d77ca1e342/dgl_cu101-0.5a191219-cp36-cp36m-manylinux1_x86_64.whl (19.6MB)\n",
            "\u001b[K     |████████████████████████████████| 19.6MB 159kB/s \n",
            "\u001b[?25hRequirement already satisfied: scipy>=1.1.0 in /usr/local/lib/python3.6/dist-packages (from dgl-cu101) (1.3.3)\n",
            "Requirement already satisfied: numpy>=1.14.0 in /usr/local/lib/python3.6/dist-packages (from dgl-cu101) (1.17.4)\n",
            "Requirement already satisfied: networkx>=2.1 in /usr/local/lib/python3.6/dist-packages (from dgl-cu101) (2.4)\n",
            "Requirement already satisfied: decorator>=4.3.0 in /usr/local/lib/python3.6/dist-packages (from networkx>=2.1->dgl-cu101) (4.4.1)\n",
            "Installing collected packages: dgl-cu101\n",
            "Successfully installed dgl-cu101-0.5a191219\n"
          ],
          "name": "stdout"
        }
      ]
    },
    {
      "cell_type": "code",
      "metadata": {
        "id": "01AnCIuklN6F",
        "colab_type": "code",
        "colab": {
          "base_uri": "https://localhost:8080/",
          "height": 288
        },
        "outputId": "ad0879f9-6112-4451-8686-dd0446880ed4"
      },
      "source": [
        "batch_size = 64\n",
        "train_loader = torch.utils.data.DataLoader(\n",
        "    datasets.MNIST('../data', train=True, download=True,\n",
        "                   transform=transforms.Compose([\n",
        "                       transforms.ToTensor()\n",
        "                   ])),\n",
        "    batch_size=batch_size)\n",
        "\n",
        "test_loader = torch.utils.data.DataLoader(\n",
        "    datasets.MNIST('../data', train=False, transform=transforms.Compose([\n",
        "                       transforms.ToTensor()\n",
        "                   ])),\n",
        "    batch_size=batch_size)"
      ],
      "execution_count": 61,
      "outputs": [
        {
          "output_type": "stream",
          "text": [
            "\r0it [00:00, ?it/s]"
          ],
          "name": "stderr"
        },
        {
          "output_type": "stream",
          "text": [
            "Downloading http://yann.lecun.com/exdb/mnist/train-images-idx3-ubyte.gz to ../data/MNIST/raw/train-images-idx3-ubyte.gz\n"
          ],
          "name": "stdout"
        },
        {
          "output_type": "stream",
          "text": [
            "9920512it [00:00, 11058391.83it/s]                           \n"
          ],
          "name": "stderr"
        },
        {
          "output_type": "stream",
          "text": [
            "Extracting ../data/MNIST/raw/train-images-idx3-ubyte.gz to ../data/MNIST/raw\n"
          ],
          "name": "stdout"
        },
        {
          "output_type": "stream",
          "text": [
            "  0%|          | 0/28881 [00:00<?, ?it/s]"
          ],
          "name": "stderr"
        },
        {
          "output_type": "stream",
          "text": [
            "Downloading http://yann.lecun.com/exdb/mnist/train-labels-idx1-ubyte.gz to ../data/MNIST/raw/train-labels-idx1-ubyte.gz\n"
          ],
          "name": "stdout"
        },
        {
          "output_type": "stream",
          "text": [
            "32768it [00:00, 162064.68it/s]           \n",
            "  0%|          | 0/1648877 [00:00<?, ?it/s]"
          ],
          "name": "stderr"
        },
        {
          "output_type": "stream",
          "text": [
            "Extracting ../data/MNIST/raw/train-labels-idx1-ubyte.gz to ../data/MNIST/raw\n",
            "Downloading http://yann.lecun.com/exdb/mnist/t10k-images-idx3-ubyte.gz to ../data/MNIST/raw/t10k-images-idx3-ubyte.gz\n"
          ],
          "name": "stdout"
        },
        {
          "output_type": "stream",
          "text": [
            "1654784it [00:00, 2589877.52it/s]                           \n",
            "8192it [00:00, 62528.98it/s]            \n"
          ],
          "name": "stderr"
        },
        {
          "output_type": "stream",
          "text": [
            "Extracting ../data/MNIST/raw/t10k-images-idx3-ubyte.gz to ../data/MNIST/raw\n",
            "Downloading http://yann.lecun.com/exdb/mnist/t10k-labels-idx1-ubyte.gz to ../data/MNIST/raw/t10k-labels-idx1-ubyte.gz\n",
            "Extracting ../data/MNIST/raw/t10k-labels-idx1-ubyte.gz to ../data/MNIST/raw\n",
            "Processing...\n",
            "Done!\n"
          ],
          "name": "stdout"
        }
      ]
    },
    {
      "cell_type": "code",
      "metadata": {
        "id": "Rtq3fDXTwFvv",
        "colab_type": "code",
        "colab": {}
      },
      "source": [
        "import torch.nn as nn\n",
        "import torch as th\n",
        "import torch.nn.functional as F\n",
        "import numpy as np\n",
        "import matplotlib.pyplot as plt\n",
        "import dgl\n",
        "import dgl.function as fn\n",
        "\n",
        "\n",
        "def init_graph(visible_units, hidden_units):\n",
        "    g0 = dgl.bipartite(\n",
        "        (np.repeat(np.arange(visible_units), hidden_units),\n",
        "         np.tile(np.arange(hidden_units), visible_units)),\n",
        "        'v_unit',\n",
        "        'v2h',\n",
        "        'h_unit',\n",
        "    )\n",
        "    g1 = dgl.bipartite(\n",
        "        (np.tile(np.arange(hidden_units), visible_units),\n",
        "         np.repeat(np.arange(visible_units), hidden_units)),\n",
        "        'h_unit',\n",
        "        'h2v',\n",
        "        'v_unit',\n",
        "    )\n",
        "    \n",
        "    g = dgl.hetero_from_relations([g0, g1])\n",
        "    return g"
      ],
      "execution_count": 0,
      "outputs": []
    },
    {
      "cell_type": "code",
      "metadata": {
        "id": "4OycHI0xti5O",
        "colab_type": "code",
        "colab": {}
      },
      "source": [
        "class RBM(nn.Module):\n",
        "    def __init__(self,\n",
        "        n_vis=784,\n",
        "        n_hin=500,\n",
        "        k=5):\n",
        "        super(RBM, self).__init__()\n",
        "        self.g = init_graph(n_vis, n_hin)\n",
        "        self.b = nn.Parameter(th.zeros(n_vis, 1))\n",
        "        self.g.nodes['v_unit'].data['b'] = self.b\n",
        "        self.c = nn.Parameter(th.zeros(n_hin, 1))\n",
        "        self.g.nodes['h_unit'].data['c'] = self.c\n",
        "        self.W = nn.Parameter(th.zeros(n_vis * n_hin, 1))\n",
        "        nn.init.xavier_normal_(self.W, gain=1)\n",
        "        self.g.edges['v2h'].data['w'] = self.W\n",
        "        self.g.edges['h2v'].data['w'] = self.W\n",
        "        self.k = k\n",
        "        self.n_vis = n_vis\n",
        "        self.n_hin = n_hin\n",
        "    \n",
        "    def sample_from_p(self,p):\n",
        "        return F.relu(torch.sign(p - torch.rand(p.size()).cuda()))\n",
        "    \n",
        "    def v_to_h(self, v):\n",
        "        g = self.g.local_var()\n",
        "        \n",
        "        g.nodes['v_unit'].data['v'] = v\n",
        "        g.multi_update_all({'v2h':(fn.u_mul_e('v','w','m'), fn.sum('m', 'wv'))},\n",
        "                  'sum')\n",
        "        \n",
        "        p_h = torch.sigmoid(self.c+g.nodes['h_unit'].data['wv'])\n",
        "        sample_h = self.sample_from_p(p_h.T)\n",
        "        return p_h,sample_h.T\n",
        "    \n",
        "    def h_to_v(self,h):\n",
        "        g = self.g.local_var()\n",
        "        g.nodes['h_unit'].data['h'] = h\n",
        "        g.multi_update_all({'h2v': (fn.u_mul_e('h','w','m'), fn.sum('m', 'wh'))},\n",
        "                  'sum')\n",
        "\n",
        "        p_v = torch.sigmoid(self.b+g.nodes['v_unit'].data['wh'])\n",
        "        sample_v = self.sample_from_p(p_v.T)\n",
        "        return p_v,sample_v.T\n",
        "        \n",
        "    def forward(self, v):\n",
        "        v_ = v.T\n",
        "        for _ in range(self.k):\n",
        "            pre_h_,h_ = self.v_to_h(v_)\n",
        "            pre_v_,v_ = self.h_to_v(h_)\n",
        "        return v,v_.T\n",
        "    \n",
        "    def free_energy(self,v):\n",
        "        vbias_term = v.mv(self.b.flatten())\n",
        "        wx_b = F.linear(v,self.W.view(self.n_vis, self.n_hin).T,self.c.flatten())\n",
        "        hidden_term = wx_b.exp().add(1).log().sum(1)\n",
        "        return (-hidden_term - vbias_term).mean()"
      ],
      "execution_count": 0,
      "outputs": []
    },
    {
      "cell_type": "code",
      "metadata": {
        "id": "rlED4rG7nlNh",
        "colab_type": "code",
        "colab": {}
      },
      "source": [
        "batch_size = 64\n",
        "train_loader = torch.utils.data.DataLoader(\n",
        "    datasets.MNIST('../data', train=True, download=False,\n",
        "                   transform=transforms.Compose([\n",
        "                       transforms.ToTensor()\n",
        "                   ])),\n",
        "    batch_size=batch_size)\n",
        "\n",
        "test_loader = torch.utils.data.DataLoader(\n",
        "    datasets.MNIST('../data', train=False, transform=transforms.Compose([\n",
        "                       transforms.ToTensor()\n",
        "                   ])),\n",
        "    batch_size=batch_size)"
      ],
      "execution_count": 0,
      "outputs": []
    },
    {
      "cell_type": "code",
      "metadata": {
        "id": "fDBESqZmnt-x",
        "colab_type": "code",
        "colab": {}
      },
      "source": [
        "rbm = RBM(k=1)"
      ],
      "execution_count": 0,
      "outputs": []
    },
    {
      "cell_type": "code",
      "metadata": {
        "id": "nT9csyCJ9B9G",
        "colab_type": "code",
        "colab": {}
      },
      "source": [
        "train_op = optim.SGD(rbm.parameters(),0.1)"
      ],
      "execution_count": 0,
      "outputs": []
    },
    {
      "cell_type": "code",
      "metadata": {
        "id": "FANtqa_a9C7Y",
        "colab_type": "code",
        "colab": {
          "base_uri": "https://localhost:8080/",
          "height": 376
        },
        "outputId": "2f53b854-fe2d-4337-af9e-c8deec07e068"
      },
      "source": [
        "rbm.cuda().train()\n",
        "for epoch in range(20):\n",
        "    loss_ = []\n",
        "    for _, (data,target) in enumerate(train_loader):\n",
        "        data = data.view(-1,784)\n",
        "        sample_data = data.bernoulli().cuda()\n",
        "        v,v1 = rbm(sample_data)\n",
        "        loss = rbm.free_energy(v) - rbm.free_energy(v1)\n",
        "        loss_.append(loss.item())\n",
        "        train_op.zero_grad()\n",
        "        loss.backward()\n",
        "        train_op.step()\n",
        "    \n",
        "    print(np.mean(loss_))"
      ],
      "execution_count": 341,
      "outputs": [
        {
          "output_type": "stream",
          "text": [
            "-8.064664242872551\n",
            "-7.039680529759129\n",
            "-4.914501686340202\n",
            "-3.3904802855143923\n",
            "-2.3335311011210687\n",
            "-1.5784039202529485\n",
            "-1.1434157641965952\n",
            "-0.7770525641532849\n",
            "-0.46103988679995667\n",
            "-0.24766130589727145\n",
            "-0.0743582914633029\n",
            "-0.03372088271671775\n",
            "0.1554293439332356\n",
            "0.20915296997851146\n",
            "0.33493110315123603\n",
            "0.38951201937091884\n",
            "0.45274499433635396\n",
            "0.5100320193813299\n",
            "0.5355164094774454\n",
            "0.6481792393015392\n"
          ],
          "name": "stdout"
        }
      ]
    },
    {
      "cell_type": "code",
      "metadata": {
        "id": "BaeDaHJKT9ww",
        "colab_type": "code",
        "colab": {}
      },
      "source": [
        "import matplotlib.pyplot as plt\n",
        "\n",
        "def show_adn_save(file_name,img):\n",
        "    npimg = np.transpose(img.numpy(),(1,2,0))\n",
        "    f = \"./%s.png\" % file_name\n",
        "    plt.imshow(npimg)\n",
        "    plt.imsave(f,npimg)"
      ],
      "execution_count": 0,
      "outputs": []
    },
    {
      "cell_type": "code",
      "metadata": {
        "id": "Al53ezjgUBuy",
        "colab_type": "code",
        "colab": {
          "base_uri": "https://localhost:8080/",
          "height": 220
        },
        "outputId": "7e4a64a9-a923-4bd0-c8f4-62bea9ed0a2c"
      },
      "source": [
        "show_adn_save(\"real\",make_grid(v.view(32,1,28,28).cpu()))"
      ],
      "execution_count": 343,
      "outputs": [
        {
          "output_type": "display_data",
          "data": {
            "image/png": "[encoded data removed]",
            "text/plain": [
              "<Figure size 432x288 with 1 Axes>"
            ]
          },
          "metadata": {
            "tags": []
          }
        }
      ]
    },
    {
      "cell_type": "code",
      "metadata": {
        "id": "z6c2Nqw_UCaM",
        "colab_type": "code",
        "colab": {
          "base_uri": "https://localhost:8080/",
          "height": 220
        },
        "outputId": "8e588a39-4188-475d-8dac-df463321fd26"
      },
      "source": [
        "show_adn_save(\"generate\",make_grid(v1.view(32,1,28,28).cpu().detach()))"
      ],
      "execution_count": 344,
      "outputs": [
        {
          "output_type": "display_data",
          "data": {
            "image/png": "[encoded data removed]",
            "text/plain": [
              "<Figure size 432x288 with 1 Axes>"
            ]
          },
          "metadata": {
            "tags": []
          }
        }
      ]
    }
  ]
}